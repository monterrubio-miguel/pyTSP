{
 "cells": [
  {
   "cell_type": "markdown",
   "metadata": {},
   "source": [
    "# Travelling Salesman Problem\n",
    "\n",
    "The Travelling Salesman Problem describes a salesman who must travel between N cities. The order in which he does so is something he does not care about, as long as he visits each once during his trip, and finishes where he was at first. Each city is connected to other close by cities, or nodes, by airplanes, or by road or railway. Each of those links between the cities has one or more weights (or the cost) attached. The cost describes how \"difficult\" it is to traverse this edge on the graph, and may be given, for example, by the cost of an airplane ticket or train ticket, or perhaps by the length of the edge, or time required to complete the traversal. The salesman wants to keep both the travel costs, as well as the distance he travels as low as possible.\n",
    "\n",
    "The Traveling Salesman Problem is typical of a large class of NP-hard optimization problems that have intrigued mathematicians and computer scientists for years. Most important, it has applications in science and engineering. For example, in the manufacture of a circuit board, it is important to determine the best order in which a laser will drill thousands of holes. An efficient solution to this problem reduces production costs for the manufacturer.\n",
    "\n",
    "[Wikipedia](https://en.wikipedia.org/wiki/Travelling_salesman_problem)\n",
    "\n",
    "[Simple Wikipedia](https://simple.wikipedia.org/wiki/Travelling_salesman_problem#targetText=The%20Travelling%20Salesman%20Problem%20describes,where%20he%20was%20at%20first.)"
   ]
  },
  {
   "cell_type": "markdown",
   "metadata": {},
   "source": [
    "### Imports"
   ]
  },
  {
   "cell_type": "code",
   "execution_count": 1,
   "metadata": {},
   "outputs": [],
   "source": [
    "import time\n",
    "from random import uniform, shuffle\n",
    "from math import sqrt, inf, factorial\n",
    "from itertools import permutations\n",
    "import matplotlib.pyplot as plt\n",
    "from IPython.display import clear_output\n",
    "%matplotlib inline"
   ]
  },
  {
   "cell_type": "markdown",
   "metadata": {},
   "source": [
    "### Generate cities data"
   ]
  },
  {
   "cell_type": "code",
   "execution_count": 2,
   "metadata": {},
   "outputs": [
    {
     "name": "stdout",
     "output_type": "stream",
     "text": [
      "[[85.85409659596021], [405.5915272054179]]\n",
      "[[85.85409659596021, 61.88059183153949], [405.5915272054179, 789.9528835053503]]\n",
      "[[85.85409659596021, 61.88059183153949, 302.68325969263987], [405.5915272054179, 789.9528835053503, 610.0788183986507]]\n",
      "[[85.85409659596021, 61.88059183153949, 302.68325969263987, 113.12538224575897], [405.5915272054179, 789.9528835053503, 610.0788183986507, 498.4986211349538]]\n",
      "[[85.85409659596021, 61.88059183153949, 302.68325969263987, 113.12538224575897, 865.7747128755565], [405.5915272054179, 789.9528835053503, 610.0788183986507, 498.4986211349538, 990.7497344272132]]\n"
     ]
    },
    {
     "data": {
      "image/png": "[encoded data removed]",
      "text/plain": [
       "<Figure size 648x216 with 1 Axes>"
      ]
     },
     "metadata": {
      "needs_background": "light"
     },
     "output_type": "display_data"
    }
   ],
   "source": [
    "total_cities = 5\n",
    "\n",
    "cities = [[],[]]\n",
    "for i in range(total_cities):\n",
    "    cities[0].append(uniform(0,1000))\n",
    "    cities[1].append(uniform(0,1000))\n",
    "    print(cities)\n",
    "\n",
    "fig, axs = plt.subplots(figsize=(9,3))\n",
    "xArr, yArr = cities[0], cities[1]\n",
    "axs.scatter(xArr, yArr)\n",
    "axs.set_xlabel(r'$x$', fontsize=15)\n",
    "axs.set_ylabel(r'$y$', fontsize=15)\n",
    "axs.set_title('Random Cities')\n",
    "\n",
    "axs.grid(True)"
   ]
  },
  {
   "cell_type": "markdown",
   "metadata": {},
   "source": [
    "## Function Declarations"
   ]
  },
  {
   "cell_type": "markdown",
   "metadata": {},
   "source": [
    "### Function to get the distance between two points\n",
    "$ \\sqrt{(x2-x1)^2 + (y2-y1)^2} $"
   ]
  },
  {
   "cell_type": "code",
   "execution_count": 3,
   "metadata": {},
   "outputs": [],
   "source": [
    "def dist(point1, point2):\n",
    "    x1, y1, x2, y2 = point1[0], point1[1], point2[0], point2[1]\n",
    "    return sqrt((x2-x1)**2 + (y2-y1)**2)"
   ]
  },
  {
   "cell_type": "markdown",
   "metadata": {},
   "source": [
    "### Function to shuffle cities"
   ]
  },
  {
   "cell_type": "code",
   "execution_count": 4,
   "metadata": {},
   "outputs": [],
   "source": [
    "def shuffle_cities(cities):\n",
    "    xArr, yArr = cities[0], cities[1]\n",
    "    points = list(zip(xArr, yArr))\n",
    "    shuffle(points)\n",
    "    cities[0], cities[1] = zip(*points)\n",
    "    return cities"
   ]
  },
  {
   "cell_type": "markdown",
   "metadata": {},
   "source": [
    "### Function to calculate the sum of the distance between cities"
   ]
  },
  {
   "cell_type": "code",
   "execution_count": 5,
   "metadata": {},
   "outputs": [],
   "source": [
    "def calculate_distance(cities):\n",
    "    accum = 0\n",
    "    xArr, yArr = cities[0], cities[1]\n",
    "    for i in range(len(xArr)-1):\n",
    "        point1, point2 = (xArr[i], yArr[i]), (xArr[i+1], yArr[i+1])\n",
    "        accum += dist(point1, point2)\n",
    "    return accum"
   ]
  },
  {
   "cell_type": "markdown",
   "metadata": {},
   "source": [
    "### Function to obtain closest city"
   ]
  },
  {
   "cell_type": "code",
   "execution_count": 6,
   "metadata": {},
   "outputs": [],
   "source": [
    "def get_closest(point1, cities, visited):\n",
    "    best_distance = float('Inf')\n",
    "    for i, coord in enumerate(cities[0]):\n",
    "        if i not in visited:\n",
    "            distance = dist((cities[0][point1], cities[1][point1]), (cities[0][i], cities[1][i]))\n",
    "                            \n",
    "            if distance < best_distance:\n",
    "                closest = i\n",
    "                best_distance = distance\n",
    "        if point1==len(cities[0])-1:\n",
    "            closest = visited[0]\n",
    "                \n",
    "    return closest, best_distance"
   ]
  },
  {
   "cell_type": "markdown",
   "metadata": {},
   "source": [
    "### Function to plot an iteration and plot current optimum distance"
   ]
  },
  {
   "cell_type": "code",
   "execution_count": 7,
   "metadata": {},
   "outputs": [],
   "source": [
    "def plot_iteration_and_optimum(cities, record_cities, eval_number, distance, record_distance):\n",
    "    clear_output(wait=True)\n",
    "    fig, axs = plt.subplots(1, 2, figsize=(12, 6))\n",
    "    iteration_plt, = axs[0], axs[1]\n",
    "    \n",
    "    # Plot each iteration with red\n",
    "    for i in range(len(cities[0]) - 1): iteration_plt.plot(cities[0][i:i+2], cities[1][i:i+2], 'ro-')\n",
    "    iteration_plt.plot([cities[0][-1], cities[0][0]],[cities[1][-1], cities[1][0]],'ro-')\n",
    "    iteration_plt.set_title(f'Every Iteration\\nDistance: {distance} \\nEvaluation no. {eval_number}')\n",
    "    \n",
    "    # Plot the current optimum\n",
    "    for i in range(len(record_cities[0]) - 1): optimum_plt.plot(record_cities[0][i:i+2], record_cities[1][i:i+2], 'go-')\n",
    "    optimum_plt.plot([record_cities[0][-1], record_cities[0][0]],[record_cities[1][-1], record_cities[1][0]],'go-')\n",
    "    optimum_plt.set_title(f'Current Optimum\\nDistance: {record_distance}\\nEvaluation no. {eval_number}')\n",
    "        \n",
    "    plt.show();"
   ]
  },
  {
   "cell_type": "markdown",
   "metadata": {},
   "source": [
    "### Function to plot informed search algorithms\n",
    "## TODO: Make second empty plot to the right not appear"
   ]
  },
  {
   "cell_type": "code",
   "execution_count": 8,
   "metadata": {},
   "outputs": [],
   "source": [
    "def plot_greedy(cities, step_number, distance):\n",
    "    clear_output(wait=True)\n",
    "    fig, axs = plt.subplots(1, 2, figsize=(12, 6))\n",
    "    iteration_plt, optimum_plt = axs[0], axs[1]\n",
    "    \n",
    "    # Plot each iteration with red\n",
    "    for i in range(len(cities[0]) - 1): iteration_plt.plot(cities[0][i:i+2], cities[1][i:i+2], 'ro-')\n",
    "    iteration_plt.plot([cities[0][-1], cities[0][0]],[cities[1][-1], cities[1][0]],'ro-')\n",
    "    iteration_plt.set_title(f'Distance: {distance} \\nStep no. {step_number}')\n",
    "        \n",
    "    plt.show();"
   ]
  },
  {
   "cell_type": "markdown",
   "metadata": {},
   "source": [
    "### Random Shuffle\n",
    "Shuffle randomly to get the best possible answer"
   ]
  },
  {
   "cell_type": "code",
   "execution_count": 9,
   "metadata": {},
   "outputs": [
    {
     "ename": "ValueError",
     "evalue": "too many values to unpack (expected 1)",
     "output_type": "error",
     "traceback": [
      "\u001b[0;31m---------------------------------------------------------------------------\u001b[0m",
      "\u001b[0;31mValueError\u001b[0m                                Traceback (most recent call last)",
      "\u001b[0;32m<ipython-input-9-0842c1318bb1>\u001b[0m in \u001b[0;36m<module>\u001b[0;34m\u001b[0m\n\u001b[1;32m      8\u001b[0m         \u001b[0mplot_iteration_and_optimum\u001b[0m\u001b[0;34m(\u001b[0m\u001b[0mcities\u001b[0m\u001b[0;34m,\u001b[0m \u001b[0mrecord_cities\u001b[0m\u001b[0;34m,\u001b[0m \u001b[0meval_number\u001b[0m\u001b[0;34m=\u001b[0m\u001b[0mi\u001b[0m\u001b[0;34m+\u001b[0m\u001b[0;36m1\u001b[0m\u001b[0;34m,\u001b[0m \u001b[0mdistance\u001b[0m\u001b[0;34m=\u001b[0m\u001b[0mcurrent_distance\u001b[0m\u001b[0;34m,\u001b[0m \u001b[0mrecord_distance\u001b[0m\u001b[0;34m=\u001b[0m\u001b[0mrecord_distance\u001b[0m\u001b[0;34m)\u001b[0m\u001b[0;34m\u001b[0m\u001b[0;34m\u001b[0m\u001b[0m\n\u001b[1;32m      9\u001b[0m         \u001b[0mshuffle_cities\u001b[0m\u001b[0;34m(\u001b[0m\u001b[0mcities\u001b[0m\u001b[0;34m)\u001b[0m\u001b[0;34m\u001b[0m\u001b[0;34m\u001b[0m\u001b[0m\n\u001b[0;32m---> 10\u001b[0;31m \u001b[0mshuffle\u001b[0m\u001b[0;34m(\u001b[0m\u001b[0miterations\u001b[0m\u001b[0;34m=\u001b[0m\u001b[0;36m100\u001b[0m\u001b[0;34m)\u001b[0m\u001b[0;34m\u001b[0m\u001b[0;34m\u001b[0m\u001b[0m\n\u001b[0m",
      "\u001b[0;32m<ipython-input-9-0842c1318bb1>\u001b[0m in \u001b[0;36mshuffle\u001b[0;34m(iterations)\u001b[0m\n\u001b[1;32m      6\u001b[0m             \u001b[0mrecord_distance\u001b[0m \u001b[0;34m=\u001b[0m \u001b[0mcurrent_distance\u001b[0m\u001b[0;34m\u001b[0m\u001b[0;34m\u001b[0m\u001b[0m\n\u001b[1;32m      7\u001b[0m             \u001b[0mrecord_cities\u001b[0m \u001b[0;34m=\u001b[0m \u001b[0mcities\u001b[0m\u001b[0;34m.\u001b[0m\u001b[0mcopy\u001b[0m\u001b[0;34m(\u001b[0m\u001b[0;34m)\u001b[0m\u001b[0;34m\u001b[0m\u001b[0;34m\u001b[0m\u001b[0m\n\u001b[0;32m----> 8\u001b[0;31m         \u001b[0mplot_iteration_and_optimum\u001b[0m\u001b[0;34m(\u001b[0m\u001b[0mcities\u001b[0m\u001b[0;34m,\u001b[0m \u001b[0mrecord_cities\u001b[0m\u001b[0;34m,\u001b[0m \u001b[0meval_number\u001b[0m\u001b[0;34m=\u001b[0m\u001b[0mi\u001b[0m\u001b[0;34m+\u001b[0m\u001b[0;36m1\u001b[0m\u001b[0;34m,\u001b[0m \u001b[0mdistance\u001b[0m\u001b[0;34m=\u001b[0m\u001b[0mcurrent_distance\u001b[0m\u001b[0;34m,\u001b[0m \u001b[0mrecord_distance\u001b[0m\u001b[0;34m=\u001b[0m\u001b[0mrecord_distance\u001b[0m\u001b[0;34m)\u001b[0m\u001b[0;34m\u001b[0m\u001b[0;34m\u001b[0m\u001b[0m\n\u001b[0m\u001b[1;32m      9\u001b[0m         \u001b[0mshuffle_cities\u001b[0m\u001b[0;34m(\u001b[0m\u001b[0mcities\u001b[0m\u001b[0;34m)\u001b[0m\u001b[0;34m\u001b[0m\u001b[0;34m\u001b[0m\u001b[0m\n\u001b[1;32m     10\u001b[0m \u001b[0mshuffle\u001b[0m\u001b[0;34m(\u001b[0m\u001b[0miterations\u001b[0m\u001b[0;34m=\u001b[0m\u001b[0;36m100\u001b[0m\u001b[0;34m)\u001b[0m\u001b[0;34m\u001b[0m\u001b[0;34m\u001b[0m\u001b[0m\n",
      "\u001b[0;32m<ipython-input-7-eb088ad052c0>\u001b[0m in \u001b[0;36mplot_iteration_and_optimum\u001b[0;34m(cities, record_cities, eval_number, distance, record_distance)\u001b[0m\n\u001b[1;32m      2\u001b[0m     \u001b[0mclear_output\u001b[0m\u001b[0;34m(\u001b[0m\u001b[0mwait\u001b[0m\u001b[0;34m=\u001b[0m\u001b[0;32mTrue\u001b[0m\u001b[0;34m)\u001b[0m\u001b[0;34m\u001b[0m\u001b[0;34m\u001b[0m\u001b[0m\n\u001b[1;32m      3\u001b[0m     \u001b[0mfig\u001b[0m\u001b[0;34m,\u001b[0m \u001b[0maxs\u001b[0m \u001b[0;34m=\u001b[0m \u001b[0mplt\u001b[0m\u001b[0;34m.\u001b[0m\u001b[0msubplots\u001b[0m\u001b[0;34m(\u001b[0m\u001b[0;36m1\u001b[0m\u001b[0;34m,\u001b[0m \u001b[0;36m2\u001b[0m\u001b[0;34m,\u001b[0m \u001b[0mfigsize\u001b[0m\u001b[0;34m=\u001b[0m\u001b[0;34m(\u001b[0m\u001b[0;36m12\u001b[0m\u001b[0;34m,\u001b[0m \u001b[0;36m6\u001b[0m\u001b[0;34m)\u001b[0m\u001b[0;34m)\u001b[0m\u001b[0;34m\u001b[0m\u001b[0;34m\u001b[0m\u001b[0m\n\u001b[0;32m----> 4\u001b[0;31m     \u001b[0miteration_plt\u001b[0m\u001b[0;34m,\u001b[0m \u001b[0;34m=\u001b[0m \u001b[0maxs\u001b[0m\u001b[0;34m[\u001b[0m\u001b[0;36m0\u001b[0m\u001b[0;34m]\u001b[0m\u001b[0;34m,\u001b[0m \u001b[0maxs\u001b[0m\u001b[0;34m[\u001b[0m\u001b[0;36m1\u001b[0m\u001b[0;34m]\u001b[0m\u001b[0;34m\u001b[0m\u001b[0;34m\u001b[0m\u001b[0m\n\u001b[0m\u001b[1;32m      5\u001b[0m \u001b[0;34m\u001b[0m\u001b[0m\n\u001b[1;32m      6\u001b[0m     \u001b[0;31m# Plot each iteration with red\u001b[0m\u001b[0;34m\u001b[0m\u001b[0;34m\u001b[0m\u001b[0;34m\u001b[0m\u001b[0m\n",
      "\u001b[0;31mValueError\u001b[0m: too many values to unpack (expected 1)"
     ]
    },
    {
     "data": {
      "image/png": "[encoded data removed]",
      "text/plain": [
       "<Figure size 864x432 with 2 Axes>"
      ]
     },
     "metadata": {
      "needs_background": "light"
     },
     "output_type": "display_data"
    }
   ],
   "source": [
    "def shuffle(iterations=0):\n",
    "    record_distance = inf\n",
    "    for i in range(iterations):\n",
    "        current_distance = calculate_distance(cities)\n",
    "        if current_distance < record_distance:\n",
    "            record_distance = current_distance\n",
    "            record_cities = cities.copy()\n",
    "        plot_iteration_and_optimum(cities, record_cities, eval_number=i+1, distance=current_distance, record_distance=record_distance)\n",
    "        shuffle_cities(cities)\n",
    "shuffle(iterations=100)"
   ]
  },
  {
   "cell_type": "markdown",
   "metadata": {},
   "source": [
    "### Brute Force\n",
    "Get all permutations of the cities and test all possible combinations\n",
    "Where all possible combinations is: $ factorial(nCities) $"
   ]
  },
  {
   "cell_type": "code",
   "execution_count": null,
   "metadata": {},
   "outputs": [],
   "source": [
    "print(f'Number of iterations = factorial({total_cities}) = {factorial(total_cities)}')"
   ]
  },
  {
   "cell_type": "code",
   "execution_count": null,
   "metadata": {},
   "outputs": [],
   "source": [
    "def brute():\n",
    "    record_distance = inf\n",
    "    eval_number = 0\n",
    "    for permutation in permutations(list(zip(cities[0],cities[1]))):\n",
    "        eval_number += 1\n",
    "        permutation = list(permutation)\n",
    "        cities[0], cities[1] = zip(*permutation)\n",
    "        current_distance = calculate_distance(cities)\n",
    "        if current_distance < record_distance:\n",
    "            record_distance = current_distance\n",
    "            record_cities = cities.copy()\n",
    "        plot_iteration_and_optimum(cities, record_cities, eval_number=eval_number, distance=current_distance, record_distance=record_distance)\n",
    "        \n",
    "brute()  "
   ]
  },
  {
   "cell_type": "markdown",
   "metadata": {},
   "source": [
    "### Informed Search\n",
    "#### Greedy\n",
    "Goes for the closest city at each step"
   ]
  },
  {
   "cell_type": "code",
   "execution_count": null,
   "metadata": {},
   "outputs": [],
   "source": [
    "def greedy():\n",
    "    length = 0\n",
    "    best_length = inf\n",
    "    order = [0]\n",
    "    best_order = []\n",
    "    steps_taken = 0\n",
    "    cities_visited = [[],[]]\n",
    "    for i, city in enumerate(cities[0]):\n",
    "        closest, distance = get_closest(order[i],cities,order)\n",
    "        length += distance\n",
    "        order.append(closest)\n",
    "        cities_visited[0].append(cities[0][closest])\n",
    "        cities_visited[1].append(cities[1][closest])\n",
    "        steps_taken += 1\n",
    "        \n",
    "        plot_greedy(cities_visited, steps_taken, length)\n",
    "greedy()  "
   ]
  },
  {
   "cell_type": "code",
   "execution_count": null,
   "metadata": {},
   "outputs": [],
   "source": []
  },
  {
   "cell_type": "code",
   "execution_count": null,
   "metadata": {},
   "outputs": [],
   "source": []
  }
 ],
 "metadata": {
  "kernelspec": {
   "display_name": "Python 3",
   "language": "python",
   "name": "python3"
  },
  "language_info": {
   "codemirror_mode": {
    "name": "ipython",
    "version": 3
   },
   "file_extension": ".py",
   "mimetype": "text/x-python",
   "name": "python",
   "nbconvert_exporter": "python",
   "pygments_lexer": "ipython3",
   "version": "3.6.8"
  }
 },
 "nbformat": 4,
 "nbformat_minor": 2
}
